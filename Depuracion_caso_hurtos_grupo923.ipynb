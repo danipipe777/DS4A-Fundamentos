{
 "cells": [
  {
   "cell_type": "markdown",
   "id": "fe65a82c",
   "metadata": {},
   "source": [
    "**PROYECTO OPCIONAL DS4A**"
   ]
  },
  {
   "cell_type": "markdown",
   "id": "b95e6c25",
   "metadata": {},
   "source": [
    "Integrantes grupo 923:\n",
    "\n",
    "- Diana Naranjo\n",
    "- Daniel Osorio"
   ]
  },
  {
   "cell_type": "markdown",
   "id": "82af7a4f",
   "metadata": {},
   "source": [
    "# Librerias"
   ]
  },
  {
   "cell_type": "code",
   "execution_count": 1,
   "id": "4f2aff9b",
   "metadata": {},
   "outputs": [],
   "source": [
    "import pandas as pd\n",
    "import numpy as np\n",
    "\n",
    "from datetime import datetime\n",
    "#import calmap"
   ]
  },
  {
   "cell_type": "markdown",
   "id": "ee22c951",
   "metadata": {},
   "source": [
    "# Descripción del problema: "
   ]
  },
  {
   "cell_type": "markdown",
   "id": "72b34870",
   "metadata": {},
   "source": [
    "La inseguridad en Colombia es un tema de preocupación y revisión, tanto para las entidades gubernamentales, las entidades privadas y la población en general. En las entidades gubernamentales puede incurrir en inconformidad con gobierno actual, ya que las personas pueden sentirse vulnerables. Por el lado de las entidades privadas, tales como aseguradoras, podrían sacar ventajas de información delictiva en el país y por otro lado, ayudaría a que las personas tomen ciertas precauciones. Se plantea realizar un análisis para identificar factores delictivos a nivel nacional, departamental y municipal que ayuden a tomar decisiones, desde los diferentes frentes, que mitiguen la inseguridad. Este caso se abordará específicamente sobre hurtos de automotores, ya que el contexto delictivo es muy amplio.\n",
    "\n",
    "Bajo este contexto, se plantean preguntas como:\n",
    "• ¿Cuáles son las ciudades con mayor tasa de hurtos?\n",
    "• ¿Qué días de la semana y en qué hora suelen presentarse los hurtos?\n",
    "• ¿Cuál es el tipo de arma más usada por los delincuentes?\n",
    "• ¿Existe alguna correlación entre los hurtos y factores socioeconómicos, como el desempleo, índices de pobreza, nivel educativo?"
   ]
  },
  {
   "cell_type": "markdown",
   "id": "a16563c5",
   "metadata": {},
   "source": [
    "# Objetivos"
   ]
  },
  {
   "cell_type": "markdown",
   "id": "2db89fd2",
   "metadata": {},
   "source": [
    "Aplicar conocimientos adquiridos durante el curso para determinar comportamientos y posibles factores que influyen en el hurto de automotores, realizando:\n",
    "\n",
    "- Integración, limpieza y depuración de bases de datos\n",
    "- Análisis de información y visualización\n",
    "- Conclusiones y propuestas de futuros proyectos relacionados."
   ]
  },
  {
   "cell_type": "markdown",
   "id": "b2acca50",
   "metadata": {},
   "source": [
    "Restricciones: En la actualidad no se cuenta con un censo municipal de automotores, por lo tanto, las tasas de hurto se deben calcular sobre población proyectada del DANE, y asumir que todos los municipios tienen la misma adquirencia de vehículos."
   ]
  },
  {
   "cell_type": "markdown",
   "id": "0dffc51d",
   "metadata": {},
   "source": [
    "# Solución"
   ]
  },
  {
   "cell_type": "markdown",
   "id": "1c25737e",
   "metadata": {},
   "source": [
    "Para dar respuesta a este planteamiento de problema, se siguieron los siguientes pasos\n",
    "\n",
    "Investigación sobre hurtos de automotores, estadísticas historicas, noticias, entre otras, que nos direccionaran hacia las bases de datos actualizadas, planteamientos de hipotesis e ideas sobre posibles variables que expliquen el hurto.\n",
    "\n",
    "Selección y descargue de diferentes bases de datos"
   ]
  },
  {
   "cell_type": "markdown",
   "id": "aec217f2",
   "metadata": {},
   "source": [
    "Base de datos Principal:\n",
    "\n",
    "Hurtos de Automoviles: https://www.datos.gov.co/Seguridad-y-Defensa/Reporte-Hurto-por-Modalidades-Polic-a-Nacional/9vha-vh9n\n",
    "\n",
    "Bases Secundarias:\n",
    "\n",
    "Población DANE: https://www.dane.gov.co/index.php/estadisticas-por-tema/demografia-y-poblacion/proyecciones-de-poblacion\n",
    "\n",
    "Desempleo: http://www.dane.gov.co/index.php/estadisticas-por-tema/mercado-laboral/mercado-laboral-por-departamentos/mercado-laboral-por-departamento-historicos\n",
    "\n",
    "Indices de Pobreza: https://www.dane.gov.co/index.php/estadisticas-por-tema/pobreza-y-condiciones-de-vida/pobreza-y-desigualdad/pobreza-monetaria-y-multidimensional-en-colombia-2017#pobreza-monetaria-por-departamentos-2017\n",
    "\n",
    "DIVIPOLA: https://geoportal.dane.gov.co/servicios/descarga-y-metadatos/datos-geoestadisticos/?cod=112"
   ]
  },
  {
   "cell_type": "markdown",
   "id": "009611d1",
   "metadata": {},
   "source": [
    "# Cargue de datos y limpieza"
   ]
  },
  {
   "cell_type": "markdown",
   "id": "63e4256a",
   "metadata": {},
   "source": [
    "## DIVIPOLA"
   ]
  },
  {
   "cell_type": "code",
   "execution_count": 2,
   "id": "7d15891c",
   "metadata": {},
   "outputs": [],
   "source": [
    "divipola = pd.read_excel('./DIVIPOLA_Municipios.xlsx', header=10)\n",
    "divipola = divipola[~divipola['Nombre'].isnull()].rename(\n",
    "    columns={'Código ':'COD_DPTO',\n",
    "             'Nombre':'DEPARTAMENTO',\n",
    "             'Código .1':'COD_MUNIC',\n",
    "             'Nombre.1':'MUNICIPIO'}).drop(columns='Unnamed: 4')\n",
    "divipola['COD_MUNIC']=(\n",
    "    divipola['COD_MUNIC'].astype(int).astype(str)\n",
    "    .str.split(' ',expand=True)[0]\n",
    "    .astype(str).str.pad(5, fillchar='0')\n",
    ")\n",
    "\n",
    "divipola['DEPARTAMENTO'] = divipola['DEPARTAMENTO'].str.replace(',','')"
   ]
  },
  {
   "cell_type": "code",
   "execution_count": 3,
   "id": "615ae8aa",
   "metadata": {},
   "outputs": [],
   "source": [
    "divipola_dpto = divipola[['COD_DPTO', 'DEPARTAMENTO']].drop_duplicates(['COD_DPTO', 'DEPARTAMENTO'])"
   ]
  },
  {
   "cell_type": "markdown",
   "id": "92dd189c",
   "metadata": {},
   "source": [
    "## BD_Hurtos"
   ]
  },
  {
   "cell_type": "code",
   "execution_count": 89,
   "id": "004b68ee",
   "metadata": {},
   "outputs": [],
   "source": [
    "hurtos = pd.read_csv('./Reporte_Hurto_por_Modalidades_Polic_a_Nacional.csv')"
   ]
  },
  {
   "cell_type": "code",
   "execution_count": 90,
   "id": "36010596",
   "metadata": {},
   "outputs": [],
   "source": [
    "hurtos['FECHA HECHO']= pd.to_datetime(\n",
    "    arg=(\n",
    "        hurtos['FECHA HECHO'].str.split(' ',expand=True)[0].astype(str)#rename(columns={0:'fecha',1:'hora'})\n",
    "        .str.pad(6, fillchar='0')\n",
    "    ),\n",
    "    format='%d/%m/%Y'# %H:%M:%S.%f\n",
    ")"
   ]
  },
  {
   "cell_type": "code",
   "execution_count": 91,
   "id": "e19920cb",
   "metadata": {},
   "outputs": [],
   "source": [
    "hurtos['COD_MUNIC']=hurtos['CODIGO DANE'].astype(str).str.split(' ',expand=True)[0].astype(str).str.pad(8, fillchar='0').str[:5]"
   ]
  },
  {
   "cell_type": "code",
   "execution_count": 93,
   "id": "e2e30e18",
   "metadata": {},
   "outputs": [],
   "source": [
    "hurtos['AÑO']=hurtos[\"FECHA HECHO\"].dt.strftime('%Y')\n",
    "hurtos['PERIODO']=hurtos[\"FECHA HECHO\"].dt.strftime('%Y-%m')\n",
    "hurtos['DIA']=hurtos[\"FECHA HECHO\"].dt.strftime('%A')\n",
    "\n",
    "hurtos.drop(columns=['DEPARTAMENTO','MUNICIPIO','GENERO','GRUPO ETARIO'], inplace=True)"
   ]
  },
  {
   "cell_type": "code",
   "execution_count": 94,
   "id": "f3732bda",
   "metadata": {},
   "outputs": [],
   "source": [
    "hurtos['ARMAS MEDIOS']=(\n",
    "    np.where(\n",
    "        (hurtos['ARMAS MEDIOS']=='NO REPORTA') | \n",
    "        (hurtos['ARMAS MEDIOS']=='-'), \n",
    "        \"NO REPORTADO\", \n",
    "        hurtos['ARMAS MEDIOS'])\n",
    ")\n",
    "\n",
    "hurtos['ARMAS MEDIOS']=(\n",
    "    np.where(\n",
    "        (hurtos['ARMAS MEDIOS']=='CORTANTES') | \n",
    "        (hurtos['ARMAS MEDIOS']=='CORTOPUNZANTES') |\n",
    "        (hurtos['ARMAS MEDIOS']=='PUNZANTES') |\n",
    "        (hurtos['ARMAS MEDIOS']=='JERINGA'), \n",
    "        \"NO REPORTADO\", \n",
    "        hurtos['ARMAS MEDIOS'])\n",
    ")"
   ]
  },
  {
   "cell_type": "markdown",
   "id": "50d176f8",
   "metadata": {},
   "source": [
    "## BD Pobreza y Pobreza extrema"
   ]
  },
  {
   "cell_type": "code",
   "execution_count": 86,
   "id": "a0eb4de1",
   "metadata": {},
   "outputs": [],
   "source": [
    "pobreza = pd.read_excel('./anexo_pobreza_monetaria_20_departamento.xls', sheet_name='IP Act.Met.', header=14)\n",
    "pobreza = pobreza.iloc[:25,:].rename(columns={'Unnamed: 0':'DEPARTAMENTO'})\n",
    "pobreza.columns = ['DEPARTAMENTO', '2012', '2013', '2014', '2015', '2016', '2017', '2018', '2019', '2020']\n",
    "pobreza = pobreza.melt(id_vars=['DEPARTAMENTO'], var_name='AÑO', value_name='pobreza')"
   ]
  },
  {
   "cell_type": "code",
   "execution_count": 87,
   "id": "2623ef28",
   "metadata": {},
   "outputs": [],
   "source": [
    "pobreza_extrema= pd.read_excel('./anexo_pobreza_monetaria_20_departamento.xls', sheet_name='IPE Act.Met.', header=14)\n",
    "pobreza_extrema=pobreza_extrema.iloc[:25,:].rename(columns={'Unnamed: 0':'DEPARTAMENTO'})\n",
    "pobreza_extrema.columns = ['DEPARTAMENTO', '2012', '2013', '2014', '2015', '2016', '2017', '2018', '2019', '2020']\n",
    "pobreza_extrema = pobreza_extrema.melt(id_vars=['DEPARTAMENTO'], var_name='AÑO', value_name='pobreza_extrema')"
   ]
  },
  {
   "cell_type": "code",
   "execution_count": 12,
   "id": "1cdd6524",
   "metadata": {},
   "outputs": [],
   "source": [
    "#pobreza_gini= pd.read_excel('./anexo_pobreza_monetaria_20_departamento.xls', sheet_name='Gini', header=14)\n",
    "#pobreza_gini=pobreza_gini.iloc[:25,:].rename(columns={'Unnamed: 0':'Departamento'})\n",
    "#pobreza_gini = pobreza_gini.melt(id_vars=['Departamento'], var_name='año', value_name='gini')"
   ]
  },
  {
   "cell_type": "code",
   "execution_count": 88,
   "id": "985e2489",
   "metadata": {},
   "outputs": [],
   "source": [
    "consolidado_pobreza = (\n",
    "    pobreza.merge(\n",
    "        pobreza_extrema,\n",
    "        how='inner',\n",
    "        on=['DEPARTAMENTO', 'AÑO']\n",
    "    )\n",
    ")"
   ]
  },
  {
   "cell_type": "code",
   "execution_count": 95,
   "id": "fbbf9d63",
   "metadata": {},
   "outputs": [],
   "source": [
    "consolidado_pobreza['DEPARTAMENTO'] = consolidado_pobreza.DEPARTAMENTO.str.upper()"
   ]
  },
  {
   "cell_type": "code",
   "execution_count": 96,
   "id": "87b128fa",
   "metadata": {},
   "outputs": [],
   "source": [
    "consolidado_pobreza = consolidado_pobreza.merge(divipola_dpto, how='inner', on='DEPARTAMENTO').drop(columns='DEPARTAMENTO')"
   ]
  },
  {
   "cell_type": "markdown",
   "id": "89a89c73",
   "metadata": {},
   "source": [
    "## Desempleo"
   ]
  },
  {
   "cell_type": "code",
   "execution_count": 17,
   "id": "d2c0c36c",
   "metadata": {},
   "outputs": [],
   "source": [
    "Desempleo = pd.read_excel('./anexo_dep_21.xls', sheet_name='Departamentos anual', header=12)\n",
    "Desempleo = Desempleo.rename(columns={'Unnamed: 0':'indicador'})\n",
    "Desempleo['indicador'] = Desempleo.indicador.str.upper()\n"
   ]
  },
  {
   "cell_type": "code",
   "execution_count": 18,
   "id": "da30c3a6",
   "metadata": {},
   "outputs": [],
   "source": [
    "Desempleo=Desempleo.merge(divipola_dpto, how='left', left_on='indicador', right_on='DEPARTAMENTO')"
   ]
  },
  {
   "cell_type": "code",
   "execution_count": 19,
   "id": "bbe7d424",
   "metadata": {},
   "outputs": [],
   "source": [
    "Desempleo['COD_DPTO']=Desempleo['COD_DPTO'].fillna(method='ffill')\n",
    "Desempleo['DEPARTAMENTO']=Desempleo['DEPARTAMENTO'].fillna(method='ffill')"
   ]
  },
  {
   "cell_type": "code",
   "execution_count": 20,
   "id": "b71b197e",
   "metadata": {},
   "outputs": [],
   "source": [
    "Desempleo = Desempleo[~Desempleo[2007].isnull()]\n",
    "Desempleo = Desempleo[Desempleo[2007]!=2007]\n",
    "Desempleo.rename(columns={'2020*':2020}, inplace=True)"
   ]
  },
  {
   "cell_type": "code",
   "execution_count": 21,
   "id": "0cefbdb3",
   "metadata": {},
   "outputs": [],
   "source": [
    "Desempleo = Desempleo.melt(id_vars=['indicador','COD_DPTO', 'DEPARTAMENTO'], var_name='AÑO', value_name='indicador_f')"
   ]
  },
  {
   "cell_type": "code",
   "execution_count": 22,
   "id": "5b101b34",
   "metadata": {},
   "outputs": [],
   "source": [
    "Desempleo = pd.pivot_table(Desempleo, values='indicador_f', index=['COD_DPTO', 'AÑO'], columns='indicador').reset_index()"
   ]
  },
  {
   "cell_type": "code",
   "execution_count": 23,
   "id": "5da46c9d",
   "metadata": {},
   "outputs": [],
   "source": [
    "Desempleo['AÑO'] = Desempleo.AÑO.astype(str)"
   ]
  },
  {
   "cell_type": "markdown",
   "id": "280d5db5",
   "metadata": {},
   "source": [
    "## Poblacion"
   ]
  },
  {
   "cell_type": "code",
   "execution_count": 59,
   "id": "2df1f671",
   "metadata": {},
   "outputs": [],
   "source": [
    "poblacion1 = pd.read_excel('./anexo-proyecciones-poblacion-Municipal_Area_2018-2035.xlsx', header=11)\n",
    "poblacion2 = pd.read_excel('./anexo-area-proyecciones-poblacion-Municipal_Area_1985-2017.xlsx', header=11)"
   ]
  },
  {
   "cell_type": "code",
   "execution_count": 61,
   "id": "a389758c",
   "metadata": {},
   "outputs": [],
   "source": [
    "poblacion2 = poblacion2[~poblacion2['DPNOM'].isnull()]"
   ]
  },
  {
   "cell_type": "code",
   "execution_count": 62,
   "id": "5d2f8052",
   "metadata": {},
   "outputs": [],
   "source": [
    "poblacion2['AÑO']=round(poblacion2['AÑO'],0).astype(int)"
   ]
  },
  {
   "cell_type": "code",
   "execution_count": 63,
   "id": "12ba5a22",
   "metadata": {},
   "outputs": [],
   "source": [
    "poblacion1['COD_MUNIC']=poblacion1['DPMP'].astype(str).str.split(' ',expand=True)[0].astype(str).str.pad(5, fillchar='0')\n",
    "poblacion2['COD_MUNIC']=round(poblacion2['COD_MUNICIPIO'],0).astype(int).astype(str).str.split(' ',expand=True)[0].astype(str).str.pad(5, fillchar='0')"
   ]
  },
  {
   "cell_type": "code",
   "execution_count": 64,
   "id": "09e079b1",
   "metadata": {},
   "outputs": [],
   "source": [
    "poblacion1 = poblacion1[poblacion1['ÁREA GEOGRÁFICA']!='Total']\n",
    "poblacion2 = poblacion2[poblacion2['ÁREA GEOGRÁFICA']!='Total']\n",
    "\n",
    "poblacion1 = (\n",
    "    poblacion1.groupby(['COD_MUNIC','AÑO']).agg(\n",
    "        poblacion=pd.NamedAgg(column='Total', aggfunc=\"sum\")).reset_index()\n",
    ")\n",
    "\n",
    "poblacion2 = (\n",
    "    poblacion2.groupby(['COD_MUNIC','AÑO']).agg(\n",
    "        poblacion=pd.NamedAgg(column='Total', aggfunc=\"sum\")).reset_index()\n",
    ")\n",
    "poblacion=pd.concat([poblacion1,poblacion2], axis=0)\n",
    "poblacion['AÑO'] = poblacion.AÑO.astype(str)"
   ]
  },
  {
   "cell_type": "markdown",
   "id": "82c73ded",
   "metadata": {},
   "source": [
    "## Integración"
   ]
  },
  {
   "cell_type": "code",
   "execution_count": 97,
   "id": "0a13f0db",
   "metadata": {},
   "outputs": [],
   "source": [
    "hurtos=hurtos.merge(divipola, how='inner', on='COD_MUNIC')"
   ]
  },
  {
   "cell_type": "code",
   "execution_count": 98,
   "id": "997df88f",
   "metadata": {},
   "outputs": [],
   "source": [
    "hurtos=hurtos.merge(consolidado_pobreza, how='left', on=['COD_DPTO','AÑO'])"
   ]
  },
  {
   "cell_type": "code",
   "execution_count": 105,
   "id": "4ed9bdf5",
   "metadata": {},
   "outputs": [],
   "source": [
    "hurtos=hurtos.merge(poblacion, how='inner', on=['COD_MUNIC','AÑO'])\n",
    "hurtos=hurtos.merge(Desempleo, how='left', on=['COD_DPTO','AÑO'])"
   ]
  },
  {
   "cell_type": "code",
   "execution_count": 106,
   "id": "600389c8",
   "metadata": {},
   "outputs": [],
   "source": [
    "hurtos['tasa_hurto_dptal']=hurtos['CANTIDAD']/hurtos['poblacion']"
   ]
  },
  {
   "cell_type": "code",
   "execution_count": 107,
   "id": "3e1811a6",
   "metadata": {},
   "outputs": [],
   "source": [
    "hurtos['tasahurtosx10000']=hurtos['tasa_hurto_dptal']*10000"
   ]
  },
  {
   "cell_type": "code",
   "execution_count": 108,
   "id": "d79c5dc4",
   "metadata": {},
   "outputs": [],
   "source": [
    "var_final = ['ARMAS MEDIOS', 'FECHA HECHO', 'TIPO DE HURTO',\n",
    "             'CANTIDAD', 'COD_MUNIC', 'AÑO', 'PERIODO', 'DIA', \n",
    "             'COD_DPTO','DEPARTAMENTO', 'MUNICIPIO', 'LATITUD', 'LONGITUD', 'pobreza',\n",
    "             'pobreza_extrema', 'poblacion','TD', 'TGP', 'TO', 'tasa_hurto_dptal','tasahurtosx10000']"
   ]
  },
  {
   "cell_type": "code",
   "execution_count": 109,
   "id": "8f2f98e8",
   "metadata": {},
   "outputs": [],
   "source": [
    "hurtos = hurtos[hurtos.AÑO>'2016']"
   ]
  },
  {
   "cell_type": "markdown",
   "id": "0c9a144d",
   "metadata": {},
   "source": [
    "# Expoirtación de los Datos"
   ]
  },
  {
   "cell_type": "code",
   "execution_count": 110,
   "id": "28b18207",
   "metadata": {},
   "outputs": [],
   "source": [
    "hurtos[var_final].to_csv('./hurtos_consolidado.csv', index=False)\n"
   ]
  },
  {
   "cell_type": "code",
   "execution_count": 73,
   "id": "bdcefa5f",
   "metadata": {},
   "outputs": [],
   "source": [
    "events=hurtos.groupby([\"FECHA HECHO\"]).agg(\n",
    "    CANTIDAD=pd.NamedAgg(column='CANTIDAD', aggfunc=\"sum\"))#.reset_index()"
   ]
  },
  {
   "cell_type": "code",
   "execution_count": 111,
   "id": "dfa67a88",
   "metadata": {},
   "outputs": [],
   "source": [
    "gr_dptos=hurtos.groupby([\"DEPARTAMENTO\", 'AÑO']).agg(\n",
    "    tasa_desempleo=pd.NamedAgg(column='TD', aggfunc=\"mean\"),\n",
    "    indice_pobreza=pd.NamedAgg(column='pobreza', aggfunc=\"mean\"),\n",
    "    indice_pobreza_extrema=pd.NamedAgg(column='pobreza_extrema', aggfunc=\"mean\"),\n",
    "    tasahurtosx10000=pd.NamedAgg(column='tasahurtosx10000', aggfunc=\"sum\")\n",
    ")"
   ]
  },
  {
   "cell_type": "code",
   "execution_count": 113,
   "id": "8da3655d",
   "metadata": {},
   "outputs": [],
   "source": [
    "gr_dptos.reset_index(inplace=True)"
   ]
  },
  {
   "cell_type": "code",
   "execution_count": 116,
   "id": "19afc335",
   "metadata": {},
   "outputs": [],
   "source": [
    "gr_dptos.to_csv('./indices_socieconomicos_hurtos.csv', index=False)"
   ]
  }
 ],
 "metadata": {
  "kernelspec": {
   "display_name": "Python 3 (ipykernel)",
   "language": "python",
   "name": "python3"
  },
  "language_info": {
   "codemirror_mode": {
    "name": "ipython",
    "version": 3
   },
   "file_extension": ".py",
   "mimetype": "text/x-python",
   "name": "python",
   "nbconvert_exporter": "python",
   "pygments_lexer": "ipython3",
   "version": "3.9.6"
  },
  "toc": {
   "base_numbering": 1,
   "nav_menu": {},
   "number_sections": true,
   "sideBar": true,
   "skip_h1_title": false,
   "title_cell": "Table of Contents",
   "title_sidebar": "Contents",
   "toc_cell": false,
   "toc_position": {},
   "toc_section_display": true,
   "toc_window_display": true
  },
  "varInspector": {
   "cols": {
    "lenName": 16,
    "lenType": 16,
    "lenVar": 40
   },
   "kernels_config": {
    "python": {
     "delete_cmd_postfix": "",
     "delete_cmd_prefix": "del ",
     "library": "var_list.py",
     "varRefreshCmd": "print(var_dic_list())"
    },
    "r": {
     "delete_cmd_postfix": ") ",
     "delete_cmd_prefix": "rm(",
     "library": "var_list.r",
     "varRefreshCmd": "cat(var_dic_list()) "
    }
   },
   "types_to_exclude": [
    "module",
    "function",
    "builtin_function_or_method",
    "instance",
    "_Feature"
   ],
   "window_display": false
  }
 },
 "nbformat": 4,
 "nbformat_minor": 5
}
